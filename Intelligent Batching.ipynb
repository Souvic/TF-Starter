{
 "cells": [
  {
   "cell_type": "code",
   "execution_count": 1,
   "metadata": {
    "collapsed": true
   },
   "outputs": [],
   "source": [
    "import os, ssl\n",
    "if (not os.environ.get('PYTHONHTTPSVERIFY', '') and getattr(ssl, '_create_unverified_context', None)): \n",
    "  ssl._create_default_https_context = ssl._create_unverified_context"
   ]
  },
  {
   "cell_type": "code",
   "execution_count": 2,
   "metadata": {
    "collapsed": true
   },
   "outputs": [],
   "source": [
    "import numpy as np\n",
    "from matplotlib import pyplot as plt\n",
    "import time"
   ]
  },
  {
   "cell_type": "code",
   "execution_count": 3,
   "metadata": {},
   "outputs": [
    {
     "name": "stderr",
     "output_type": "stream",
     "text": [
      "/Library/Frameworks/Python.framework/Versions/3.6/lib/python3.6/importlib/_bootstrap.py:205: RuntimeWarning: compiletime version 3.5 of module 'tensorflow.python.framework.fast_tensor_util' does not match runtime version 3.6\n",
      "  return f(*args, **kwds)\n",
      "/Library/Frameworks/Python.framework/Versions/3.6/lib/python3.6/site-packages/h5py/__init__.py:34: FutureWarning: Conversion of the second argument of issubdtype from `float` to `np.floating` is deprecated. In future, it will be treated as `np.float64 == np.dtype(float).type`.\n",
      "  from ._conv import register_converters as _register_converters\n"
     ]
    },
    {
     "name": "stdout",
     "output_type": "stream",
     "text": [
      "Extracting MNIST_data/train-images-idx3-ubyte.gz\n",
      "Extracting MNIST_data/train-labels-idx1-ubyte.gz\n",
      "Extracting MNIST_data/t10k-images-idx3-ubyte.gz\n",
      "Extracting MNIST_data/t10k-labels-idx1-ubyte.gz\n"
     ]
    }
   ],
   "source": [
    "from tensorflow.examples.tutorials.mnist import input_data\n",
    "mnist = input_data.read_data_sets(\"MNIST_data/\", one_hot=True)"
   ]
  },
  {
   "cell_type": "code",
   "execution_count": 4,
   "metadata": {
    "collapsed": true
   },
   "outputs": [],
   "source": [
    "def batch_selector(x,y,loss,batch_size,mode=\"random\"):\n",
    "    if(mode==\"random\"):\n",
    "        indices=np.random.choice(len(x),batch_size)\n",
    "        return(x[indices],y[indices],indices)\n",
    "    if(mode==\"selective\"):\n",
    "        pp=loss.copy()\n",
    "        k=sum(pp<0)\n",
    "        if(k!=0):\n",
    "            h=k/len(pp)\n",
    "            pp=pp/(sum(pp[pp<0]))*h\n",
    "        pp[pp<0]=1/len(pp)\n",
    "\n",
    "        indices=np.random.choice(len(pp),batch_size,pp.tolist())\n",
    "        return(x[indices],y[indices],indices)\n",
    "    "
   ]
  },
  {
   "cell_type": "code",
   "execution_count": 5,
   "metadata": {
    "collapsed": true
   },
   "outputs": [],
   "source": [
    "import tensorflow as tf"
   ]
  },
  {
   "cell_type": "code",
   "execution_count": 6,
   "metadata": {
    "collapsed": true
   },
   "outputs": [],
   "source": [
    "x = tf.placeholder(tf.float32, [None, 784])"
   ]
  },
  {
   "cell_type": "code",
   "execution_count": 7,
   "metadata": {
    "collapsed": true
   },
   "outputs": [],
   "source": [
    "W = tf.Variable(tf.random_normal([784, 64]))\n",
    "b = tf.Variable(tf.ones([64]))\n",
    "y1 = tf.nn.sigmoid(tf.matmul(x, W) + b)\n",
    "W1 = tf.Variable(tf.random_normal([64, 10]))\n",
    "b1 = tf.Variable(tf.ones([10]))\n",
    "y = tf.nn.softmax(tf.matmul(y1, W1) + b1)\n",
    "y_ = tf.placeholder(tf.float32, [None, 10])\n",
    "cross_entropy1 = (-tf.reduce_sum(y_ * tf.log(y), reduction_indices=[1]))\n",
    "cross_entropy=tf.reduce_mean(cross_entropy1)\n",
    "train_step = tf.train.GradientDescentOptimizer(1.0).minimize(cross_entropy)"
   ]
  },
  {
   "cell_type": "code",
   "execution_count": 8,
   "metadata": {
    "collapsed": true
   },
   "outputs": [],
   "source": [
    "correct_prediction = tf.equal(tf.argmax(y,1), tf.argmax(y_,1))\n",
    "accuracy = tf.reduce_mean(tf.cast(correct_prediction, tf.float32))"
   ]
  },
  {
   "cell_type": "code",
   "execution_count": 9,
   "metadata": {
    "collapsed": true
   },
   "outputs": [],
   "source": [
    "#Selection of harder examples(high loss) with higher probability in batches "
   ]
  },
  {
   "cell_type": "code",
   "execution_count": 10,
   "metadata": {
    "collapsed": true
   },
   "outputs": [],
   "source": [
    "sess = tf.InteractiveSession()\n",
    "tf.global_variables_initializer().run()\n",
    "batch_size=100;p=np.array([-10.0]*len(mnist.train.labels));accumulator1=[]"
   ]
  },
  {
   "cell_type": "code",
   "execution_count": 11,
   "metadata": {},
   "outputs": [
    {
     "name": "stdout",
     "output_type": "stream",
     "text": [
      "This plot shows how the loss decreases with each iteration (actually 10 iterations)\n"
     ]
    },
    {
     "data": {
      "image/png": "[encoded data removed]",
      "text/plain": [
       "<matplotlib.figure.Figure at 0x109d8a898>"
      ]
     },
     "metadata": {},
     "output_type": "display_data"
    },
    {
     "name": "stdout",
     "output_type": "stream",
     "text": [
      "Time spent in training :  159.41603779792786  seconds\n",
      "Current accuracy :  0.8964\n"
     ]
    }
   ],
   "source": [
    "t=time.time()\n",
    "for _ in range(1000):\n",
    "    batch_xs, batch_ys,indices = batch_selector(mnist.train.images,mnist.train.labels,p,batch_size,'selective')\n",
    "    loss=sess.run([cross_entropy1, train_step], feed_dict={x: batch_xs, y_: batch_ys})[0]\n",
    "    p[indices]=loss#############################################################################################\n",
    "    if _%10==0:\n",
    "        aa,bb=sess.run([cross_entropy1,cross_entropy], feed_dict={x: mnist.train.images, y_: mnist.train.labels})\n",
    "        p=aa\n",
    "        accumulator1=accumulator1+[bb]\n",
    "print(\"This plot shows how the loss decreases with each iteration (actually 10 iterations)\")\n",
    "plt.scatter(np.arange(len(accumulator1)),accumulator1,s=3)\n",
    "plt.show()\n",
    "print(\"Time spent in training : \",time.time()-t,\" seconds\")\n",
    "print(\"Current accuracy : \",sess.run(accuracy, feed_dict={x: mnist.test.images, y_: mnist.test.labels}))"
   ]
  },
  {
   "cell_type": "code",
   "execution_count": 12,
   "metadata": {
    "collapsed": true
   },
   "outputs": [],
   "source": [
    "#Selection of all examples with same probability in batches "
   ]
  },
  {
   "cell_type": "code",
   "execution_count": 13,
   "metadata": {
    "collapsed": true
   },
   "outputs": [],
   "source": [
    "sess = tf.InteractiveSession()\n",
    "tf.global_variables_initializer().run()\n",
    "batch_size=100;p=np.array([-10.0]*len(mnist.train.labels));accumulator2=[]"
   ]
  },
  {
   "cell_type": "code",
   "execution_count": 14,
   "metadata": {},
   "outputs": [
    {
     "name": "stdout",
     "output_type": "stream",
     "text": [
      "This plot shows how the loss decreases with each iteration (actually 10 iterations)\n"
     ]
    },
    {
     "data": {
      "image/png": "[encoded data removed]",
      "text/plain": [
       "<matplotlib.figure.Figure at 0x12b347748>"
      ]
     },
     "metadata": {},
     "output_type": "display_data"
    },
    {
     "name": "stdout",
     "output_type": "stream",
     "text": [
      "Time spent in training :  14.46164608001709  seconds\n",
      "Current accuracy :  0.9029\n"
     ]
    }
   ],
   "source": [
    "t=time.time()\n",
    "for _ in range(1000):\n",
    "    batch_xs, batch_ys,indices = batch_selector(mnist.train.images,mnist.train.labels,p,batch_size,'random')\n",
    "    loss=sess.run([cross_entropy1, train_step], feed_dict={x: batch_xs, y_: batch_ys})[0]\n",
    "    if _%10==0:\n",
    "        accumulator2=accumulator2+[sess.run(cross_entropy, feed_dict={x: mnist.train.images, y_: mnist.train.labels})]\n",
    "print(\"This plot shows how the loss decreases with each iteration (actually 10 iterations)\")\n",
    "plt.scatter(np.arange(len(accumulator2)),accumulator2,s=3.0)\n",
    "plt.show()\n",
    "print(\"Time spent in training : \",time.time()-t,\" seconds\")\n",
    "print(\"Current accuracy : \",sess.run(accuracy, feed_dict={x: mnist.test.images, y_: mnist.test.labels}))"
   ]
  },
  {
   "cell_type": "code",
   "execution_count": 15,
   "metadata": {},
   "outputs": [
    {
     "data": {
      "image/png": "[encoded data removed]",
      "text/plain": [
       "<matplotlib.figure.Figure at 0x12b44dfd0>"
      ]
     },
     "metadata": {},
     "output_type": "display_data"
    }
   ],
   "source": [
    "plt.scatter(np.arange(len(accumulator2)),accumulator2,s=3)\n",
    "plt.show()"
   ]
  },
  {
   "cell_type": "code",
   "execution_count": null,
   "metadata": {
    "collapsed": true
   },
   "outputs": [],
   "source": []
  }
 ],
 "metadata": {
  "kernelspec": {
   "display_name": "Python 3",
   "language": "python",
   "name": "python3"
  },
  "language_info": {
   "codemirror_mode": {
    "name": "ipython",
    "version": 3
   },
   "file_extension": ".py",
   "mimetype": "text/x-python",
   "name": "python",
   "nbconvert_exporter": "python",
   "pygments_lexer": "ipython3",
   "version": "3.6.0"
  }
 },
 "nbformat": 4,
 "nbformat_minor": 2
}
