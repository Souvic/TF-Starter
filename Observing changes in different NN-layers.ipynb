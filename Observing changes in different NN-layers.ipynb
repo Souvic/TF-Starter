{
 "cells": [
  {
   "cell_type": "code",
   "execution_count": 1,
   "metadata": {
    "collapsed": true
   },
   "outputs": [],
   "source": [
    "import os, ssl\n",
    "if (not os.environ.get('PYTHONHTTPSVERIFY', '') and getattr(ssl, '_create_unverified_context', None)): \n",
    "  ssl._create_default_https_context = ssl._create_unverified_context"
   ]
  },
  {
   "cell_type": "code",
   "execution_count": 2,
   "metadata": {
    "collapsed": true
   },
   "outputs": [],
   "source": [
    "import numpy as np\n",
    "import pandas as pd\n",
    "import matplotlib.pyplot as plt"
   ]
  },
  {
   "cell_type": "code",
   "execution_count": 3,
   "metadata": {},
   "outputs": [
    {
     "name": "stderr",
     "output_type": "stream",
     "text": [
      "/Library/Frameworks/Python.framework/Versions/3.6/lib/python3.6/importlib/_bootstrap.py:205: RuntimeWarning: compiletime version 3.5 of module 'tensorflow.python.framework.fast_tensor_util' does not match runtime version 3.6\n",
      "  return f(*args, **kwds)\n",
      "/Library/Frameworks/Python.framework/Versions/3.6/lib/python3.6/site-packages/h5py/__init__.py:34: FutureWarning: Conversion of the second argument of issubdtype from `float` to `np.floating` is deprecated. In future, it will be treated as `np.float64 == np.dtype(float).type`.\n",
      "  from ._conv import register_converters as _register_converters\n"
     ]
    },
    {
     "name": "stdout",
     "output_type": "stream",
     "text": [
      "Extracting MNIST_data/train-images-idx3-ubyte.gz\n",
      "Extracting MNIST_data/train-labels-idx1-ubyte.gz\n",
      "Extracting MNIST_data/t10k-images-idx3-ubyte.gz\n",
      "Extracting MNIST_data/t10k-labels-idx1-ubyte.gz\n"
     ]
    }
   ],
   "source": [
    "from tensorflow.examples.tutorials.mnist import input_data\n",
    "mnist = input_data.read_data_sets(\"MNIST_data/\", one_hot=True)"
   ]
  },
  {
   "cell_type": "code",
   "execution_count": 4,
   "metadata": {
    "collapsed": true
   },
   "outputs": [],
   "source": [
    "def batch_selector(x,y,loss,batch_size,mode=\"random\"):\n",
    "    if(mode==\"random\"):\n",
    "        indices=np.random.choice(len(x),batch_size)\n",
    "        return(x[indices],y[indices],indices)\n",
    "    pp=loss.copy()**3#1.0/(0.0001+loss.copy())\n",
    "    k=sum(pp<0)\n",
    "    if(k!=0):\n",
    "        h=k/len(pp)\n",
    "        pp=pp/(sum(pp[pp<0]))*h\n",
    "    pp[pp<0]=1/len(pp)\n",
    "    #print(sum(p))\n",
    "    #print(np.array(p))\n",
    "    #print(batch_size)\n",
    "    indices=np.random.choice(len(pp),batch_size,pp.tolist())\n",
    "    return(x[indices],y[indices],indices)\n",
    "    "
   ]
  },
  {
   "cell_type": "code",
   "execution_count": 5,
   "metadata": {
    "collapsed": true
   },
   "outputs": [],
   "source": [
    "import tensorflow as tf"
   ]
  },
  {
   "cell_type": "code",
   "execution_count": 6,
   "metadata": {
    "collapsed": true
   },
   "outputs": [],
   "source": [
    "x = tf.placeholder(tf.float32, [None, 784])"
   ]
  },
  {
   "cell_type": "code",
   "execution_count": 7,
   "metadata": {
    "collapsed": true
   },
   "outputs": [],
   "source": [
    "W = tf.Variable(tf.random_normal([784, 64]))\n",
    "b = tf.Variable(tf.ones([64]))\n",
    "y1 = tf.nn.sigmoid(tf.matmul(x, W) + b)\n",
    "W1 = tf.Variable(tf.random_normal([64, 10]))\n",
    "b1 = tf.Variable(tf.ones([10]))\n",
    "y = tf.nn.softmax(tf.matmul(y1, W1) + b1)\n",
    "y_ = tf.placeholder(tf.float32, [None, 10])\n",
    "cross_entropy1 = (-tf.reduce_sum(y_ * tf.log(y), reduction_indices=[1]))\n",
    "cross_entropy=tf.reduce_mean(cross_entropy1)\n",
    "train_step = tf.train.GradientDescentOptimizer(1.0).minimize(cross_entropy)"
   ]
  },
  {
   "cell_type": "code",
   "execution_count": 8,
   "metadata": {
    "collapsed": true
   },
   "outputs": [],
   "source": [
    "correct_prediction = tf.equal(tf.argmax(y,1), tf.argmax(y_,1))\n",
    "accuracy = tf.reduce_sum(tf.cast(correct_prediction, tf.float32))"
   ]
  },
  {
   "cell_type": "code",
   "execution_count": 9,
   "metadata": {
    "collapsed": true
   },
   "outputs": [],
   "source": [
    "sess = tf.InteractiveSession()\n",
    "tf.global_variables_initializer().run()\n",
    "batch_size=100;p=np.array([-10.0]*len(mnist.train.labels));accumulator2=[]"
   ]
  },
  {
   "cell_type": "code",
   "execution_count": 10,
   "metadata": {},
   "outputs": [
    {
     "name": "stdout",
     "output_type": "stream",
     "text": [
      "(55000,)\n"
     ]
    }
   ],
   "source": [
    "print(p.shape)"
   ]
  },
  {
   "cell_type": "code",
   "execution_count": 11,
   "metadata": {},
   "outputs": [
    {
     "name": "stdout",
     "output_type": "stream",
     "text": [
      "4976.0\n",
      "1\n",
      "6617.0\n",
      "2\n",
      "7475.0\n",
      "3\n",
      "10345.0\n",
      "4\n",
      "11155.0\n",
      "5\n",
      "13860.0\n",
      "6\n",
      "15342.0\n",
      "7\n",
      "16072.0\n",
      "8\n",
      "17819.0\n",
      "9\n",
      "19211.0\n",
      "10\n",
      "20260.0\n",
      "11\n",
      "21467.0\n",
      "12\n",
      "21157.0\n",
      "13\n",
      "23067.0\n",
      "14\n",
      "24386.0\n",
      "15\n",
      "24523.0\n",
      "16\n",
      "26282.0\n",
      "17\n",
      "26571.0\n",
      "18\n",
      "27065.0\n",
      "19\n",
      "26060.0\n",
      "20\n",
      "28219.0\n",
      "21\n",
      "29453.0\n",
      "22\n",
      "30042.0\n",
      "23\n",
      "30923.0\n",
      "24\n",
      "30754.0\n",
      "25\n",
      "30286.0\n",
      "26\n",
      "31015.0\n",
      "27\n",
      "31161.0\n",
      "28\n",
      "31542.0\n",
      "29\n",
      "33008.0\n",
      "30\n",
      "33443.0\n",
      "31\n",
      "32449.0\n",
      "32\n",
      "32215.0\n",
      "33\n",
      "34208.0\n",
      "34\n",
      "34343.0\n",
      "35\n",
      "34409.0\n",
      "36\n",
      "34914.0\n",
      "37\n",
      "34661.0\n",
      "38\n",
      "34491.0\n",
      "39\n",
      "34641.0\n",
      "40\n",
      "35709.0\n",
      "41\n",
      "36200.0\n",
      "42\n",
      "36398.0\n",
      "43\n",
      "36610.0\n",
      "44\n",
      "35556.0\n",
      "45\n",
      "36073.0\n",
      "46\n",
      "37143.0\n",
      "47\n",
      "36866.0\n",
      "48\n",
      "36584.0\n",
      "49\n",
      "35899.0\n",
      "50\n",
      "37239.0\n",
      "51\n",
      "36411.0\n",
      "52\n",
      "38026.0\n",
      "53\n",
      "37954.0\n",
      "54\n",
      "37018.0\n",
      "55\n",
      "38456.0\n",
      "56\n",
      "37294.0\n",
      "57\n",
      "37905.0\n",
      "58\n",
      "36655.0\n",
      "59\n",
      "35839.0\n",
      "60\n",
      "38591.0\n",
      "61\n",
      "39244.0\n",
      "62\n",
      "38318.0\n",
      "63\n",
      "39126.0\n",
      "64\n",
      "38510.0\n",
      "65\n",
      "39719.0\n",
      "66\n",
      "37927.0\n",
      "67\n",
      "39764.0\n",
      "68\n",
      "39543.0\n",
      "69\n",
      "38341.0\n",
      "70\n",
      "39230.0\n",
      "71\n",
      "39671.0\n",
      "72\n",
      "40165.0\n",
      "73\n",
      "39935.0\n",
      "74\n",
      "39542.0\n",
      "75\n",
      "40654.0\n",
      "76\n",
      "40352.0\n",
      "77\n",
      "40141.0\n",
      "78\n",
      "40107.0\n",
      "79\n",
      "40327.0\n",
      "80\n",
      "40572.0\n",
      "81\n",
      "40809.0\n",
      "82\n",
      "40610.0\n",
      "83\n",
      "40348.0\n",
      "84\n",
      "41433.0\n",
      "85\n",
      "40037.0\n",
      "86\n",
      "40732.0\n",
      "87\n",
      "40771.0\n",
      "88\n",
      "40392.0\n",
      "89\n",
      "41135.0\n",
      "90\n",
      "40576.0\n",
      "91\n",
      "41504.0\n",
      "92\n",
      "41694.0\n",
      "93\n",
      "41662.0\n",
      "94\n",
      "41784.0\n",
      "95\n",
      "41385.0\n",
      "96\n",
      "41236.0\n",
      "97\n",
      "41692.0\n",
      "98\n",
      "41719.0\n",
      "99\n",
      "41602.0\n",
      "100\n"
     ]
    }
   ],
   "source": [
    "aa0,bb0=sess.run([y1,y], feed_dict={x: mnist.train.images, y_: mnist.train.labels})\n",
    "daatrain=[];dbbtrain=[];acctrain=[]\n",
    "for _ in range(100):\n",
    "    batch_xs, batch_ys,indices = batch_selector(mnist.train.images,mnist.train.labels,p,batch_size,'random')\n",
    "    sess.run([train_step], feed_dict={x: batch_xs, y_: batch_ys})\n",
    "    aa,bb,acc=sess.run([y1,y,accuracy], feed_dict={x: mnist.train.images, y_: mnist.train.labels})\n",
    "    daa=np.sum([abs(xx)>0.5 for xx in aa-aa0]);dbb=np.sum([abs(xx)>0.5 for xx in bb-bb0])\n",
    "    print(acc)\n",
    "    daatrain=daatrain+[daa]\n",
    "    dbbtrain=dbbtrain+[dbb]\n",
    "    acctrain=acctrain+[acc]\n",
    "    print(len(daatrain))\n",
    "    aa0=aa;bb0=bb\n",
    "    #if _%10==0:\n",
    "        #accumulator2=accumulator2+[sess.run(cross_entropy, feed_dict={x: mnist.train.images, y_: mnist.train.labels})]"
   ]
  },
  {
   "cell_type": "code",
   "execution_count": 16,
   "metadata": {},
   "outputs": [
    {
     "data": {
      "image/png": "[encoded data removed]",
      "text/plain": [
       "<matplotlib.figure.Figure at 0x12a3725f8>"
      ]
     },
     "metadata": {},
     "output_type": "display_data"
    }
   ],
   "source": [
    "\n",
    "\n",
    "d = {'one' : daatrain[2:],\n",
    "     'two' : np.array(dbbtrain)[2:]/100}\n",
    "\n",
    "df = pd.DataFrame(d)\n",
    "\n",
    "df.plot(style=['o','rx'])\n",
    "plt.show()"
   ]
  },
  {
   "cell_type": "code",
   "execution_count": 19,
   "metadata": {},
   "outputs": [
    {
     "name": "stdout",
     "output_type": "stream",
     "text": [
      "firstlayer   :   29106   secondlayer   :   73234   accuracy:  4976.0\n",
      "firstlayer   :   1677   secondlayer   :   45767   accuracy:  6617.0\n",
      "firstlayer   :   2421   secondlayer   :   40199   accuracy:  7475.0\n",
      "firstlayer   :   25   secondlayer   :   15290   accuracy:  10345.0\n",
      "firstlayer   :   12   secondlayer   :   24870   accuracy:  11155.0\n",
      "firstlayer   :   1   secondlayer   :   21156   accuracy:  13860.0\n",
      "firstlayer   :   768   secondlayer   :   15470   accuracy:  15342.0\n",
      "firstlayer   :   8   secondlayer   :   16478   accuracy:  16072.0\n",
      "firstlayer   :   60   secondlayer   :   23664   accuracy:  17819.0\n",
      "firstlayer   :   52   secondlayer   :   22382   accuracy:  19211.0\n",
      "firstlayer   :   0   secondlayer   :   8626   accuracy:  20260.0\n",
      "firstlayer   :   0   secondlayer   :   14924   accuracy:  21467.0\n",
      "firstlayer   :   7   secondlayer   :   8906   accuracy:  21157.0\n",
      "firstlayer   :   1   secondlayer   :   15133   accuracy:  23067.0\n",
      "firstlayer   :   1   secondlayer   :   13522   accuracy:  24386.0\n",
      "firstlayer   :   3   secondlayer   :   16135   accuracy:  24523.0\n",
      "firstlayer   :   0   secondlayer   :   9523   accuracy:  26282.0\n",
      "firstlayer   :   0   secondlayer   :   9821   accuracy:  26571.0\n",
      "firstlayer   :   0   secondlayer   :   9636   accuracy:  27065.0\n",
      "firstlayer   :   9   secondlayer   :   15525   accuracy:  26060.0\n",
      "firstlayer   :   1   secondlayer   :   19815   accuracy:  28219.0\n",
      "firstlayer   :   0   secondlayer   :   10953   accuracy:  29453.0\n",
      "firstlayer   :   0   secondlayer   :   2118   accuracy:  30042.0\n",
      "firstlayer   :   0   secondlayer   :   1058   accuracy:  30923.0\n",
      "firstlayer   :   4   secondlayer   :   1866   accuracy:  30754.0\n",
      "firstlayer   :   30   secondlayer   :   9136   accuracy:  30286.0\n",
      "firstlayer   :   8   secondlayer   :   12259   accuracy:  31015.0\n",
      "firstlayer   :   0   secondlayer   :   3423   accuracy:  31161.0\n",
      "firstlayer   :   1   secondlayer   :   10462   accuracy:  31542.0\n",
      "firstlayer   :   0   secondlayer   :   6054   accuracy:  33008.0\n",
      "firstlayer   :   3   secondlayer   :   142   accuracy:  33443.0\n",
      "firstlayer   :   0   secondlayer   :   1881   accuracy:  32449.0\n",
      "firstlayer   :   0   secondlayer   :   9332   accuracy:  32215.0\n",
      "firstlayer   :   1   secondlayer   :   9142   accuracy:  34208.0\n",
      "firstlayer   :   0   secondlayer   :   1962   accuracy:  34343.0\n",
      "firstlayer   :   0   secondlayer   :   320   accuracy:  34409.0\n",
      "firstlayer   :   0   secondlayer   :   868   accuracy:  34914.0\n",
      "firstlayer   :   0   secondlayer   :   3678   accuracy:  34661.0\n",
      "firstlayer   :   0   secondlayer   :   6852   accuracy:  34491.0\n",
      "firstlayer   :   0   secondlayer   :   6822   accuracy:  34641.0\n",
      "firstlayer   :   0   secondlayer   :   6384   accuracy:  35709.0\n",
      "firstlayer   :   0   secondlayer   :   181   accuracy:  36200.0\n",
      "firstlayer   :   0   secondlayer   :   300   accuracy:  36398.0\n",
      "firstlayer   :   0   secondlayer   :   853   accuracy:  36610.0\n",
      "firstlayer   :   0   secondlayer   :   1464   accuracy:  35556.0\n",
      "firstlayer   :   0   secondlayer   :   7877   accuracy:  36073.0\n",
      "firstlayer   :   0   secondlayer   :   796   accuracy:  37143.0\n",
      "firstlayer   :   0   secondlayer   :   932   accuracy:  36866.0\n",
      "firstlayer   :   0   secondlayer   :   2429   accuracy:  36584.0\n",
      "firstlayer   :   0   secondlayer   :   7089   accuracy:  35899.0\n",
      "firstlayer   :   0   secondlayer   :   6876   accuracy:  37239.0\n",
      "firstlayer   :   0   secondlayer   :   1551   accuracy:  36411.0\n",
      "firstlayer   :   0   secondlayer   :   1383   accuracy:  38026.0\n",
      "firstlayer   :   0   secondlayer   :   15   accuracy:  37954.0\n",
      "firstlayer   :   0   secondlayer   :   418   accuracy:  37018.0\n",
      "firstlayer   :   0   secondlayer   :   584   accuracy:  38456.0\n",
      "firstlayer   :   0   secondlayer   :   4681   accuracy:  37294.0\n",
      "firstlayer   :   0   secondlayer   :   7471   accuracy:  37905.0\n",
      "firstlayer   :   320   secondlayer   :   14527   accuracy:  36655.0\n",
      "firstlayer   :   457   secondlayer   :   14963   accuracy:  35839.0\n",
      "firstlayer   :   0   secondlayer   :   15090   accuracy:  38591.0\n",
      "firstlayer   :   0   secondlayer   :   301   accuracy:  39244.0\n",
      "firstlayer   :   0   secondlayer   :   101   accuracy:  38318.0\n",
      "firstlayer   :   0   secondlayer   :   7104   accuracy:  39126.0\n",
      "firstlayer   :   0   secondlayer   :   409   accuracy:  38510.0\n",
      "firstlayer   :   0   secondlayer   :   20   accuracy:  39719.0\n",
      "firstlayer   :   0   secondlayer   :   233   accuracy:  37927.0\n",
      "firstlayer   :   0   secondlayer   :   7315   accuracy:  39764.0\n",
      "firstlayer   :   0   secondlayer   :   23   accuracy:  39543.0\n",
      "firstlayer   :   0   secondlayer   :   1342   accuracy:  38341.0\n",
      "firstlayer   :   0   secondlayer   :   4474   accuracy:  39230.0\n",
      "firstlayer   :   0   secondlayer   :   186   accuracy:  39671.0\n",
      "firstlayer   :   0   secondlayer   :   449   accuracy:  40165.0\n",
      "firstlayer   :   0   secondlayer   :   355   accuracy:  39935.0\n",
      "firstlayer   :   0   secondlayer   :   1621   accuracy:  39542.0\n",
      "firstlayer   :   0   secondlayer   :   6   accuracy:  40654.0\n",
      "firstlayer   :   0   secondlayer   :   0   accuracy:  40352.0\n",
      "firstlayer   :   0   secondlayer   :   1090   accuracy:  40141.0\n",
      "firstlayer   :   0   secondlayer   :   1429   accuracy:  40107.0\n",
      "firstlayer   :   0   secondlayer   :   1480   accuracy:  40327.0\n",
      "firstlayer   :   0   secondlayer   :   1349   accuracy:  40572.0\n",
      "firstlayer   :   0   secondlayer   :   0   accuracy:  40809.0\n",
      "firstlayer   :   0   secondlayer   :   83   accuracy:  40610.0\n",
      "firstlayer   :   0   secondlayer   :   817   accuracy:  40348.0\n",
      "firstlayer   :   0   secondlayer   :   0   accuracy:  41433.0\n",
      "firstlayer   :   0   secondlayer   :   91   accuracy:  40037.0\n",
      "firstlayer   :   0   secondlayer   :   360   accuracy:  40732.0\n",
      "firstlayer   :   0   secondlayer   :   1224   accuracy:  40771.0\n",
      "firstlayer   :   0   secondlayer   :   5486   accuracy:  40392.0\n",
      "firstlayer   :   0   secondlayer   :   1927   accuracy:  41135.0\n",
      "firstlayer   :   0   secondlayer   :   2259   accuracy:  40576.0\n",
      "firstlayer   :   0   secondlayer   :   422   accuracy:  41504.0\n",
      "firstlayer   :   0   secondlayer   :   0   accuracy:  41694.0\n",
      "firstlayer   :   0   secondlayer   :   0   accuracy:  41662.0\n",
      "firstlayer   :   0   secondlayer   :   0   accuracy:  41784.0\n",
      "firstlayer   :   0   secondlayer   :   0   accuracy:  41385.0\n",
      "firstlayer   :   0   secondlayer   :   389   accuracy:  41236.0\n",
      "firstlayer   :   0   secondlayer   :   6   accuracy:  41692.0\n",
      "firstlayer   :   0   secondlayer   :   26   accuracy:  41719.0\n",
      "firstlayer   :   0   secondlayer   :   762   accuracy:  41602.0\n"
     ]
    }
   ],
   "source": [
    "for i in range(len(daatrain)):\n",
    "    print(\"firstlayer   :  \",daatrain[i],\"  secondlayer   :  \",dbbtrain[i],\"  accuracy: \", acctrain[i])"
   ]
  },
  {
   "cell_type": "code",
   "execution_count": null,
   "metadata": {
    "collapsed": true
   },
   "outputs": [],
   "source": [
    "#same input means.. for last layers also, not only the first layer"
   ]
  }
 ],
 "metadata": {
  "kernelspec": {
   "display_name": "Python 3",
   "language": "python",
   "name": "python3"
  },
  "language_info": {
   "codemirror_mode": {
    "name": "ipython",
    "version": 3
   },
   "file_extension": ".py",
   "mimetype": "text/x-python",
   "name": "python",
   "nbconvert_exporter": "python",
   "pygments_lexer": "ipython3",
   "version": "3.6.0"
  }
 },
 "nbformat": 4,
 "nbformat_minor": 2
}
