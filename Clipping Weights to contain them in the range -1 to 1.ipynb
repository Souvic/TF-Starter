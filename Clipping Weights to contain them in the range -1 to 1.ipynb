{
 "cells": [
  {
   "cell_type": "code",
   "execution_count": 1,
   "metadata": {
    "collapsed": true
   },
   "outputs": [],
   "source": [
    "import os, ssl\n",
    "if (not os.environ.get('PYTHONHTTPSVERIFY', '') and getattr(ssl, '_create_unverified_context', None)): \n",
    "  ssl._create_default_https_context = ssl._create_unverified_context"
   ]
  },
  {
   "cell_type": "code",
   "execution_count": 2,
   "metadata": {},
   "outputs": [
    {
     "name": "stderr",
     "output_type": "stream",
     "text": [
      "/Library/Frameworks/Python.framework/Versions/3.6/lib/python3.6/importlib/_bootstrap.py:205: RuntimeWarning: compiletime version 3.5 of module 'tensorflow.python.framework.fast_tensor_util' does not match runtime version 3.6\n",
      "  return f(*args, **kwds)\n",
      "/Library/Frameworks/Python.framework/Versions/3.6/lib/python3.6/site-packages/h5py/__init__.py:34: FutureWarning: Conversion of the second argument of issubdtype from `float` to `np.floating` is deprecated. In future, it will be treated as `np.float64 == np.dtype(float).type`.\n",
      "  from ._conv import register_converters as _register_converters\n"
     ]
    }
   ],
   "source": [
    "import numpy as np\n",
    "from matplotlib import pyplot as plt\n",
    "import tensorflow as tf\n",
    "import time"
   ]
  },
  {
   "cell_type": "code",
   "execution_count": 3,
   "metadata": {},
   "outputs": [
    {
     "name": "stdout",
     "output_type": "stream",
     "text": [
      "Extracting MNIST_data/train-images-idx3-ubyte.gz\n",
      "Extracting MNIST_data/train-labels-idx1-ubyte.gz\n",
      "Extracting MNIST_data/t10k-images-idx3-ubyte.gz\n",
      "Extracting MNIST_data/t10k-labels-idx1-ubyte.gz\n"
     ]
    }
   ],
   "source": [
    "from tensorflow.examples.tutorials.mnist import input_data\n",
    "mnist = input_data.read_data_sets(\"MNIST_data/\", one_hot=True)"
   ]
  },
  {
   "cell_type": "code",
   "execution_count": 4,
   "metadata": {
    "collapsed": true
   },
   "outputs": [],
   "source": [
    "def batch_selector(x,y,batch_size,mode=\"random\"):\n",
    "    if(mode==\"random\"):\n",
    "        indices=np.random.choice(len(x),batch_size)\n",
    "        return(x[indices],y[indices],indices)\n",
    "    "
   ]
  },
  {
   "cell_type": "code",
   "execution_count": 5,
   "metadata": {
    "collapsed": true
   },
   "outputs": [],
   "source": [
    "def plotit(y,labelx,labely,title):\n",
    "    plt.plot(y)\n",
    "    plt.xlabel(labelx)\n",
    "    plt.ylabel(labely)\n",
    "    plt.suptitle(title)\n",
    "    plt.show()"
   ]
  },
  {
   "cell_type": "code",
   "execution_count": 6,
   "metadata": {},
   "outputs": [],
   "source": [
    "class NN:\n",
    "    def __init__ (self,I,H,O):\n",
    "        self.I=I\n",
    "        self.H=H\n",
    "        self.O=O\n",
    "\n",
    "        self.W1 = tf.Variable(tf.random_uniform([H[-1], O],minval=-1,maxval=1))\n",
    "        self.b1 = tf.Variable(tf.ones([O]))\n",
    "        self.x_ = tf.placeholder(tf.float32, [None, I])\n",
    "        self.x=[self.x_]\n",
    "        self.W = [tf.Variable(tf.random_uniform([I, H[0]],minval=-1,maxval=1))]+[tf.Variable(tf.random_uniform([H[HH], H[HH+1]],minval=-1,maxval=1)) for HH in range(len(H)-1)]\n",
    "        self.b = [tf.Variable(tf.ones([HH])) for HH in H]\n",
    "        for ii in range(len(H)):\n",
    "            self.x=self.x+[tf.nn.sigmoid(tf.matmul(self.x[-1], self.W[ii]) + self.b[ii])]\n",
    "\n",
    "        self.y = tf.nn.softmax(tf.matmul(self.x[-1], self.W1) + self.b1)\n",
    "        self.y_ = tf.placeholder(tf.float32, [None, O])\n",
    "        self.cross_entropy1 = (-tf.reduce_sum(self.y_ * tf.log(self.y), reduction_indices=[1]))\n",
    "        self.cross_entropy=tf.reduce_mean(self.cross_entropy1)\n",
    "        \n",
    "        self.optimizer=tf.train.GradientDescentOptimizer(1.0)\n",
    "\n",
    "        self.var_list=[self.W1,self.b1]+ self.W + self.b\n",
    "        self.grads1 = tf.gradients(self.cross_entropy,self.var_list)\n",
    "        self.grads=[grad if grad is not None else tf.zeros_like(var) for var, grad in zip(self.var_list, self.grads1)]\n",
    "\n",
    "        self.correct_prediction = tf.equal(tf.argmax(self.y,1), tf.argmax(self.y_,1))\n",
    "        self.accuracy = tf.reduce_mean(tf.cast(self.correct_prediction, tf.float32))\n",
    "    def clip_Ws(self):\n",
    "        self.W1=tf.clip_by_value(t=self.W1,clip_value_max=1.0,clip_value_min=-1.0)\n",
    "        for iiq in range(len(self.W)):\n",
    "            self.W[iiq]=tf.clip_by_value(t=self.W[iiq],clip_value_max=1.0,clip_value_min=-1.0)\n",
    "    def updategrads(self,grads,lr):\n",
    "        grads_and_vars=[(grads[iii]*lr,self.var_list[iii]) for iii in range(len(grads))]\n",
    "        hh=self.optimizer.apply_gradients(grads_and_vars)\n",
    "        sess.run(hh)\n"
   ]
  },
  {
   "cell_type": "code",
   "execution_count": 7,
   "metadata": {
    "collapsed": true
   },
   "outputs": [],
   "source": [
    "ff=NN(784,[32,32],10)"
   ]
  },
  {
   "cell_type": "code",
   "execution_count": 8,
   "metadata": {},
   "outputs": [
    {
     "name": "stdout",
     "output_type": "stream",
     "text": [
      "0.6363636363636362\n",
      "0.5785123966942147\n",
      "0.6363636363636362\n",
      "0.6363636363636362\n",
      "0.6363636363636362\n",
      "0.5785123966942147\n",
      "0.5785123966942147\n",
      "0.6363636363636362\n",
      "0.5785123966942147\n",
      "0.6363636363636362\n",
      "0.7\n",
      "0.6363636363636362\n",
      "0.5785123966942147\n",
      "0.5259203606311043\n",
      "0.5785123966942147\n",
      "0.6363636363636362\n",
      "0.5785123966942147\n",
      "0.6363636363636362\n",
      "0.5785123966942147\n",
      "0.6363636363636362\n",
      "0.5785123966942147\n",
      "0.6363636363636362\n",
      "0.5785123966942147\n",
      "0.5259203606311043\n",
      "0.4781094187555493\n",
      "0.4781094187555493\n",
      "0.5259203606311043\n",
      "0.5259203606311043\n",
      "0.5259203606311043\n",
      "0.5785123966942147\n",
      "0.6363636363636362\n",
      "0.7\n",
      "0.6363636363636362\n",
      "0.5785123966942147\n",
      "0.6363636363636362\n",
      "0.7\n",
      "0.7\n",
      "0.6363636363636362\n",
      "0.5785123966942147\n",
      "0.6363636363636362\n",
      "0.7\n",
      "0.7\n",
      "0.77\n",
      "0.7\n",
      "0.6363636363636362\n",
      "0.7\n",
      "0.7\n",
      "0.77\n",
      "0.77\n",
      "0.7\n",
      "0.6363636363636362\n",
      "0.7\n",
      "0.7\n",
      "0.6363636363636362\n",
      "0.5785123966942147\n",
      "0.5259203606311043\n",
      "0.5785123966942147\n",
      "0.6363636363636362\n",
      "0.7\n",
      "0.77\n",
      "0.7\n",
      "0.6363636363636362\n",
      "0.6363636363636362\n",
      "0.6363636363636362\n",
      "0.7\n",
      "0.6363636363636362\n",
      "0.7\n",
      "0.77\n",
      "0.77\n",
      "0.77\n",
      "0.7\n",
      "0.77\n",
      "0.7\n",
      "0.7\n",
      "0.77\n",
      "0.8470000000000001\n",
      "0.77\n",
      "0.8470000000000001\n",
      "0.77\n",
      "0.8470000000000001\n",
      "0.77\n",
      "0.7\n",
      "0.7\n",
      "0.77\n",
      "0.8470000000000001\n",
      "0.9317000000000002\n",
      "1.0248700000000004\n",
      "1.1273570000000006\n",
      "1.0248700000000004\n",
      "0.9317000000000003\n",
      "0.8470000000000002\n",
      "0.9317000000000003\n",
      "1.0248700000000004\n",
      "0.9317000000000003\n",
      "0.8470000000000002\n",
      "0.7700000000000001\n",
      "0.7700000000000001\n",
      "0.7700000000000001\n",
      "0.8470000000000002\n",
      "0.9317000000000003\n",
      "Time spent in training :  58.62323188781738  seconds\n",
      "Current accuracy :  0.6803\n"
     ]
    },
    {
     "data": {
      "image/png": "[encoded data removed]",
      "text/plain": [
       "<matplotlib.figure.Figure at 0x14c9f0ac8>"
      ]
     },
     "metadata": {},
     "output_type": "display_data"
    }
   ],
   "source": [
    "#clipped Weights and SELF-ADJUSTING learning rate\n",
    "sess = tf.InteractiveSession()\n",
    "tf.global_variables_initializer().run()\n",
    "batch_size=100;accumulator11=[]\n",
    "t=time.time()\n",
    "lr=0.7\n",
    "inc=1.1\n",
    "for _ in range(100):\n",
    "    batch_xs, batch_ys,indices = batch_selector(mnist.train.images,mnist.train.labels,batch_size,'random')\n",
    "    #sess.run(ff.optimizer.minimize(ff.cross_entropy), feed_dict={ff.x_: batch_xs, ff.y_: batch_ys})\n",
    "    wwq=sess.run(ff.grads, feed_dict={ff.x_: batch_xs, ff.y_: batch_ys})\n",
    "    \n",
    "    ff.updategrads(wwq,lr/inc);ff.clip_Ws()\n",
    "    loss1=sess.run(ff.cross_entropy, feed_dict={ff.x_: batch_xs, ff.y_: batch_ys})\n",
    "    \n",
    "    ff.updategrads(wwq,(lr*(1-1/inc)));ff.clip_Ws()\n",
    "    loss2=sess.run(ff.cross_entropy, feed_dict={ff.x_: batch_xs, ff.y_: batch_ys})  \n",
    "    \n",
    "    ff.updategrads(wwq,lr*(inc-1));ff.clip_Ws()\n",
    "    loss3=sess.run(ff.cross_entropy, feed_dict={ff.x_: batch_xs, ff.y_: batch_ys})\n",
    "    min_index=np.argmin([loss1,loss2,loss3])\n",
    "    if(min_index==1):\n",
    "        ff.updategrads(wwq,lr*(1-inc));ff.clip_Ws()\n",
    "    elif(min_index==0):\n",
    "        ff.updategrads(wwq,lr*(1/inc-inc));ff.clip_Ws()\n",
    "        lr=lr/inc\n",
    "    else:\n",
    "        lr=lr*inc\n",
    "    print(lr)\n",
    "    \n",
    "    #print(sess.run(ff.b[0]))\n",
    "    if _%10==0:\n",
    "        accumulator11=accumulator11+[sess.run(ff.cross_entropy, feed_dict={ff.x_: mnist.train.images, ff.y_: mnist.train.labels})]\n",
    "print(\"Time spent in training : \",time.time()-t,\" seconds\")\n",
    "print(\"Current accuracy : \",sess.run(ff.accuracy, feed_dict={ff.x_: mnist.test.images, ff.y_: mnist.test.labels}))\n",
    "plotit(accumulator11,\"Number of iterations/10\",\"Training loss\",\"Training loss vs Training time\")"
   ]
  },
  {
   "cell_type": "code",
   "execution_count": 9,
   "metadata": {},
   "outputs": [
    {
     "name": "stdout",
     "output_type": "stream",
     "text": [
      "0.6363636363636362\n",
      "0.7\n",
      "0.77\n",
      "0.7\n",
      "0.6363636363636362\n",
      "0.7\n",
      "0.6363636363636362\n",
      "0.7\n",
      "0.7\n",
      "0.6363636363636362\n",
      "0.7\n",
      "0.6363636363636362\n",
      "0.6363636363636362\n",
      "0.6363636363636362\n",
      "0.6363636363636362\n",
      "0.5785123966942147\n",
      "0.6363636363636362\n",
      "0.6363636363636362\n",
      "0.7\n",
      "0.77\n",
      "0.8470000000000001\n",
      "0.77\n",
      "0.7\n",
      "0.7\n",
      "0.6363636363636362\n",
      "0.6363636363636362\n",
      "0.7\n",
      "0.6363636363636362\n",
      "0.7\n",
      "0.7\n",
      "0.6363636363636362\n",
      "0.7\n",
      "0.77\n",
      "0.7\n",
      "0.77\n",
      "0.8470000000000001\n",
      "0.77\n",
      "0.7\n",
      "0.7\n",
      "0.77\n",
      "0.7\n",
      "0.6363636363636362\n",
      "0.6363636363636362\n",
      "0.6363636363636362\n",
      "0.7\n",
      "0.77\n",
      "0.7\n",
      "0.7\n",
      "0.6363636363636362\n",
      "0.7\n",
      "0.77\n",
      "0.77\n",
      "0.77\n",
      "0.77\n",
      "0.77\n",
      "0.8470000000000001\n",
      "0.8470000000000001\n",
      "0.77\n",
      "0.8470000000000001\n",
      "0.9317000000000002\n",
      "0.8470000000000001\n",
      "0.77\n",
      "0.8470000000000001\n",
      "0.9317000000000002\n",
      "0.8470000000000001\n",
      "0.8470000000000001\n",
      "0.77\n",
      "0.7\n",
      "0.77\n",
      "0.8470000000000001\n",
      "0.8470000000000001\n",
      "0.9317000000000002\n",
      "1.0248700000000004\n",
      "0.9317000000000003\n",
      "0.9317000000000003\n",
      "1.0248700000000004\n",
      "1.0248700000000004\n",
      "0.9317000000000003\n",
      "0.8470000000000002\n",
      "0.9317000000000003\n",
      "0.9317000000000003\n",
      "0.8470000000000002\n",
      "0.9317000000000003\n",
      "1.0248700000000004\n",
      "0.9317000000000003\n",
      "0.8470000000000002\n",
      "0.9317000000000003\n",
      "0.9317000000000003\n",
      "1.0248700000000004\n",
      "1.1273570000000006\n",
      "1.2400927000000008\n",
      "1.1273570000000006\n",
      "1.0248700000000004\n",
      "1.0248700000000004\n",
      "1.1273570000000006\n",
      "1.0248700000000004\n",
      "1.0248700000000004\n",
      "1.0248700000000004\n",
      "1.0248700000000004\n",
      "1.1273570000000006\n",
      "Time spent in training :  147.0219750404358  seconds\n",
      "Current accuracy :  0.7491\n"
     ]
    },
    {
     "data": {
      "image/png": "[encoded data removed]",
      "text/plain": [
       "<matplotlib.figure.Figure at 0x169a5bcf8>"
      ]
     },
     "metadata": {},
     "output_type": "display_data"
    }
   ],
   "source": [
    "#NO clipped Weights and ONLY SELF-ADJUSTING learning rate\n",
    "sess = tf.InteractiveSession()\n",
    "tf.global_variables_initializer().run()\n",
    "batch_size=100;accumulator12=[]\n",
    "t=time.time()\n",
    "lr=0.7\n",
    "inc=1.1\n",
    "for _ in range(100):\n",
    "    batch_xs, batch_ys,indices = batch_selector(mnist.train.images,mnist.train.labels,batch_size,'random')\n",
    "    #sess.run(ff.optimizer.minimize(ff.cross_entropy), feed_dict={ff.x_: batch_xs, ff.y_: batch_ys})\n",
    "    wwq=sess.run(ff.grads, feed_dict={ff.x_: batch_xs, ff.y_: batch_ys})\n",
    "    \n",
    "    ff.updategrads(wwq,lr/inc);ff.clip_Ws()\n",
    "    loss1=sess.run(ff.cross_entropy, feed_dict={ff.x_: batch_xs, ff.y_: batch_ys})\n",
    "    \n",
    "    ff.updategrads(wwq,(lr*(1-1/inc)));ff.clip_Ws()\n",
    "    loss2=sess.run(ff.cross_entropy, feed_dict={ff.x_: batch_xs, ff.y_: batch_ys})  \n",
    "    \n",
    "    ff.updategrads(wwq,lr*(inc-1));ff.clip_Ws()\n",
    "    loss3=sess.run(ff.cross_entropy, feed_dict={ff.x_: batch_xs, ff.y_: batch_ys})\n",
    "    min_index=np.argmin([loss1,loss2,loss3])\n",
    "    if(min_index==1):\n",
    "        ff.updategrads(wwq,lr*(1-inc));ff.clip_Ws()\n",
    "    elif(min_index==0):\n",
    "        ff.updategrads(wwq,lr*(1/inc-inc));ff.clip_Ws()\n",
    "        lr=lr/inc\n",
    "    else:\n",
    "        lr=lr*inc\n",
    "    print(lr)\n",
    "    \n",
    "    if _%10==0:\n",
    "        accumulator12=accumulator12+[sess.run(ff.cross_entropy, feed_dict={ff.x_: mnist.train.images, ff.y_: mnist.train.labels})]\n",
    "print(\"Time spent in training : \",time.time()-t,\" seconds\")\n",
    "print(\"Current accuracy : \",sess.run(ff.accuracy, feed_dict={ff.x_: mnist.test.images, ff.y_: mnist.test.labels}))\n",
    "plotit(accumulator12,\"Number of iterations/10\",\"Training loss\",\"Training loss vs Training time\")"
   ]
  },
  {
   "cell_type": "code",
   "execution_count": 11,
   "metadata": {},
   "outputs": [
    {
     "name": "stdout",
     "output_type": "stream",
     "text": [
      "Time spent in training :  61.89384722709656  seconds\n",
      "Current accuracy :  0.6379\n"
     ]
    },
    {
     "data": {
      "image/png": "[encoded data removed]",
      "text/plain": [
       "<matplotlib.figure.Figure at 0x17f07f748>"
      ]
     },
     "metadata": {},
     "output_type": "display_data"
    }
   ],
   "source": [
    "#clipped Weights and FIXED learning rate\n",
    "sess = tf.InteractiveSession()\n",
    "tf.global_variables_initializer().run()\n",
    "batch_size=10;accumulator21=[]\n",
    "t=time.time()\n",
    "lr=0.7\n",
    "for _ in range(100):\n",
    "    batch_xs, batch_ys,indices = batch_selector(mnist.train.images,mnist.train.labels,batch_size,'random')\n",
    "    #sess.run(ff.optimizer.minimize(ff.cross_entropy), feed_dict={ff.x_: batch_xs, ff.y_: batch_ys})\n",
    "    wwq=sess.run(ff.grads, feed_dict={ff.x_: batch_xs, ff.y_: batch_ys})\n",
    "    ff.updategrads(wwq,lr)\n",
    "    ff.clip_Ws()\n",
    "    if _%10==0:\n",
    "        accumulator21=accumulator21+[sess.run(ff.cross_entropy, feed_dict={ff.x_: mnist.train.images, ff.y_: mnist.train.labels})]\n",
    "print(\"Time spent in training : \",time.time()-t,\" seconds\")\n",
    "print(\"Current accuracy : \",sess.run(ff.accuracy, feed_dict={ff.x_: mnist.test.images, ff.y_: mnist.test.labels}))\n",
    "plotit(accumulator21,\"Number of iterations/10\",\"Training loss\",\"Training loss vs Training time\")"
   ]
  },
  {
   "cell_type": "code",
   "execution_count": 12,
   "metadata": {},
   "outputs": [
    {
     "name": "stdout",
     "output_type": "stream",
     "text": [
      "Time spent in training :  50.26592779159546  seconds\n",
      "Current accuracy :  0.7108\n"
     ]
    },
    {
     "data": {
      "image/png": "[encoded data removed]",
      "text/plain": [
       "<matplotlib.figure.Figure at 0x180ec19e8>"
      ]
     },
     "metadata": {},
     "output_type": "display_data"
    }
   ],
   "source": [
    "#NO clipped Weights and ONLY FIXED learning rate\n",
    "sess = tf.InteractiveSession()\n",
    "tf.global_variables_initializer().run()\n",
    "batch_size=100;accumulator22=[]\n",
    "t=time.time()\n",
    "lr=0.7\n",
    "for _ in range(100):\n",
    "    batch_xs, batch_ys,indices = batch_selector(mnist.train.images,mnist.train.labels,batch_size,'random')\n",
    "    #sess.run(ff.optimizer.minimize(ff.cross_entropy), feed_dict={ff.x_: batch_xs, ff.y_: batch_ys})\n",
    "    wwq=sess.run(ff.grads, feed_dict={ff.x_: batch_xs, ff.y_: batch_ys})\n",
    "    ff.updategrads(wwq,lr)\n",
    "\n",
    "    if _%10==0:\n",
    "        accumulator22=accumulator22+[sess.run(ff.cross_entropy, feed_dict={ff.x_: mnist.train.images, ff.y_: mnist.train.labels})]\n",
    "print(\"Time spent in training : \",time.time()-t,\" seconds\")\n",
    "print(\"Current accuracy : \",sess.run(ff.accuracy, feed_dict={ff.x_: mnist.test.images, ff.y_: mnist.test.labels}))\n",
    "plotit(accumulator22,\"Number of iterations/10\",\"Training loss\",\"Training loss vs Training time\")"
   ]
  },
  {
   "cell_type": "code",
   "execution_count": null,
   "metadata": {
    "collapsed": true
   },
   "outputs": [],
   "source": []
  }
 ],
 "metadata": {
  "kernelspec": {
   "display_name": "Python 3",
   "language": "python",
   "name": "python3"
  },
  "language_info": {
   "codemirror_mode": {
    "name": "ipython",
    "version": 3
   },
   "file_extension": ".py",
   "mimetype": "text/x-python",
   "name": "python",
   "nbconvert_exporter": "python",
   "pygments_lexer": "ipython3",
   "version": "3.6.0"
  }
 },
 "nbformat": 4,
 "nbformat_minor": 2
}
